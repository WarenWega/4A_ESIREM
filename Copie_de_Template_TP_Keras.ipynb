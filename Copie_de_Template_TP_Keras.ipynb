{
  "nbformat": 4,
  "nbformat_minor": 0,
  "metadata": {
    "colab": {
      "provenance": [],
      "include_colab_link": true
    },
    "kernelspec": {
      "name": "python3",
      "display_name": "Python 3"
    },
    "language_info": {
      "name": "python"
    }
  },
  "cells": [
    {
      "cell_type": "markdown",
      "metadata": {
        "id": "view-in-github",
        "colab_type": "text"
      },
      "source": [
        "<a href=\"https://colab.research.google.com/github/WarenWega/4A_ESIREM/blob/main/Copie_de_Template_TP_Keras.ipynb\" target=\"_parent\"><img src=\"https://colab.research.google.com/assets/colab-badge.svg\" alt=\"Open In Colab\"/></a>"
      ]
    },
    {
      "cell_type": "markdown",
      "source": [
        "Les deux premiers blocs du Notebook ne sont pas à modifier. Ils servent à la configuration du projet."
      ],
      "metadata": {
        "id": "4nUBQLhc29BM"
      }
    },
    {
      "cell_type": "code",
      "execution_count": null,
      "metadata": {
        "id": "74lvan3JxDnd"
      },
      "outputs": [],
      "source": [
        "# All the needed imports are already here\n",
        "import numpy as np\n",
        "import pandas as pd\n",
        "import tensorflow as tf\n",
        "import tensorflow.keras.backend as K\n",
        "from tensorflow.keras import Input\n",
        "from tensorflow.keras.models import Model\n",
        "from tensorflow.keras.layers import Dense, concatenate, IntegerLookup, Normalization, StringLookup\n",
        "from sklearn.model_selection import KFold\n",
        "import matplotlib.pyplot as plt"
      ]
    },
    {
      "cell_type": "code",
      "source": [
        "# Mandatory pre-processing functions\n",
        "# Converts a Pandas DataFram into a Keras Tensor Dataset\n",
        "\"\"\"\n",
        "    x:      Pandas Dataframe a dataframe containing all the subsets of data for the neural network\n",
        "    y:      Pandas Dataframe a dataframe containing all the labels for each subsets of data\n",
        "\"\"\"\n",
        "def dataframe_to_dataset(x, y):\n",
        "    train = x.copy()\n",
        "    labels = y\n",
        "    ds = tf.data.Dataset.from_tensor_slices((dict(train), labels))\n",
        "    ds = ds.shuffle(buffer_size=len(train))\n",
        "    return ds\n",
        "\n",
        "# Converts a number input into an encoded tensor\n",
        "\"\"\"\n",
        "    feature:    any feature to encode\n",
        "    name:       string name of the feature\n",
        "    dataset:    Keras Tensor Dataset the dataset in which the feature is found\n",
        "\"\"\"\n",
        "def encode_numerical_feature(feature, name, dataset):\n",
        "    # Create a Normalization layer for our feature\n",
        "    normalizer = Normalization()\n",
        "\n",
        "    # Prepare a Dataset that only yields our feature\n",
        "    feature_ds = dataset.map(lambda x, y: x[name])\n",
        "    feature_ds = feature_ds.map(lambda x: tf.expand_dims(x, -1))\n",
        "\n",
        "    # Learn the statistics of the data\n",
        "    normalizer.adapt(feature_ds)\n",
        "\n",
        "    # Normalize the input feature\n",
        "    encoded_feature = normalizer(feature)\n",
        "\n",
        "    return encoded_feature\n",
        "\n",
        "# Convert a categorical feature into an encoded tensor\n",
        "\"\"\"\n",
        "    feature:    any feature to encode\n",
        "    name:       string name of the feature\n",
        "    dataset:    Keras Tensor Dataset the dataset in which the feature is found\n",
        "    is_string:  bool whether the feature is a string\n",
        "\"\"\"\n",
        "def encode_categorical_feature(feature, name, dataset, is_string):\n",
        "    lookup_class = StringLookup if is_string else IntegerLookup\n",
        "    # Create a lookup layer which will turn strings into integer indices\n",
        "    lookup = lookup_class(output_mode=\"binary\")\n",
        "\n",
        "    # Prepare a Dataset that only yields our feature\n",
        "    feature_ds = dataset.map(lambda x, y: x[name])\n",
        "    feature_ds = feature_ds.map(lambda x: tf.expand_dims(x, -1))\n",
        "\n",
        "    # Learn the set of possible string values and assign them a fixed integer index\n",
        "    lookup.adapt(feature_ds)\n",
        "\n",
        "    # Turn the string input into integer indices\n",
        "    encoded_feature = lookup(feature)\n",
        "\n",
        "    return encoded_feature"
      ],
      "metadata": {
        "id": "xAwVdUdxxQoj"
      },
      "execution_count": null,
      "outputs": []
    },
    {
      "cell_type": "markdown",
      "source": [
        "Votre travail commence **ici**"
      ],
      "metadata": {
        "id": "GEmS2Hjh3DiP"
      }
    },
    {
      "cell_type": "code",
      "source": [
        "### TODO Import the dataset https://github.com/mwaskom/seaborn-data/raw/master/tips.csv using Pandas\n",
        "\n",
        "data = pd.read_csv(\"https://github.com/mwaskom/seaborn-data/raw/master/tips.csv\")\n",
        "\n",
        "### TODO Split the Pandas Dataframe into 2 parts. The features (sex, smoker, day, etc.) will go into the variable x and the column tips will go into variable y\n",
        "### Remember, what we want to predict is the value of the tip !\n",
        "\n",
        "x = data.drop('tip', axis = 1)\n",
        "y = data[\"tip\"]\n",
        "#print(x)\n",
        "\n",
        "### TODO Instantiate one object of type Input() for each variable in your features (sex, smoker, day, etc...) but not the column tips\n",
        "a = Input(shape=(1,),name=(\"sex\"),dtype=(tf.string))\n",
        "b = Input(shape=(1,),name=(\"smoker\"),dtype=(tf.string))\n",
        "c = Input(shape=(1,),name=(\"day\"),dtype=(tf.string))\n",
        "d = Input(shape=(1,),name=(\"time\"),dtype=(tf.string))\n",
        "e = Input(shape=(1,),name=(\"size\"),dtype=(tf.int32))\n",
        "f = Input(shape=(1,),name=(\"total_bill\"),dtype=(tf.float32))\n",
        "\n",
        "### In the constructor of Input(), set the shape to (1,), a name for your input, and the dtype of the input -> https://keras.io/api/layers/core_layers/input/\n",
        "### If you do not know what a dtype is, you can always look at this -> https://www.oreilly.com/library/view/tensorflow-20-quick/9781789530759/851f368a-b0af-493d-a225-150e4c719e3c.xhtml\n",
        "\n",
        "### TODO Put all of your previously instanciated inputs into a Python List called all_inputs\n",
        "\n",
        "all_inputs = [a,b,c,d,e,f]\n",
        "\n",
        "\n",
        "\n"
      ],
      "metadata": {
        "id": "N7ev8rfuyv4E"
      },
      "execution_count": null,
      "outputs": []
    },
    {
      "cell_type": "code",
      "source": [
        "# HYPERPARAMETERS GO HERE\n",
        "NUMBER_OF_KFOLDS = 6\n",
        "BATCH_SIZE = 1\n",
        "NUMBER_OF_EPOCHS = 10\n",
        "STARTING_LEARNING_RATE = 0.001"
      ],
      "metadata": {
        "id": "nf7uO_Ry6UjQ"
      },
      "execution_count": null,
      "outputs": []
    },
    {
      "cell_type": "code",
      "source": [
        "### TODO Create a variable best_model that is equal to None\n",
        "best_model = None\n",
        "\n",
        "### TODO Create a variable smallest_error that is equal to 999\n",
        "smallest_error = 999\n",
        "\n",
        "# Splits the dataset into an array of differently generated train/test subsets\n",
        "kfold = KFold(n_splits=NUMBER_OF_KFOLDS, shuffle=True)\n",
        "for train, test in kfold.split(x, y):\n",
        "    train_dataset = dataframe_to_dataset(x.iloc[train], y.iloc[train])\n",
        "    validation_dataset = dataframe_to_dataset(x.iloc[test], y.iloc[test])\n",
        "\n",
        "    train_dataset = train_dataset.batch(BATCH_SIZE)\n",
        "    validation_dataset = validation_dataset.batch(BATCH_SIZE)\n",
        "\n",
        "    ### TODO Use either the function encode_categorical_feature or encode_numerical_feature on your previously created Input objects\n",
        "    ### depending on what you think seems right\n",
        "    sex_encoded = encode_categorical_feature(a, \"sex\", train_dataset, True)\n",
        "    smoker_encoded = encode_categorical_feature(b, \"smoker\", train_dataset, True)\n",
        "    day_encoded = encode_categorical_feature(c, \"day\", train_dataset, True)\n",
        "    time_encoded = encode_categorical_feature(d, \"time\", train_dataset, True)\n",
        "    total_bill_encoded =  encode_numerical_feature(f, \"total_bill\", train_dataset)\n",
        "    size_encoded = encode_categorical_feature(e, \"size\", train_dataset , False)\n",
        "\n",
        "    all_features = concatenate(\n",
        "        [\n",
        "            sex_encoded,\n",
        "            smoker_encoded,\n",
        "            day_encoded,\n",
        "            time_encoded,\n",
        "            total_bill_encoded,\n",
        "            size_encoded\n",
        "        ]\n",
        "    )\n",
        "\n",
        "    ### TODO Create your neural network\n",
        "    # Create a first Dense layer that takes as input your array of all_features\n",
        "    first_layer = tf.keras.layers.Dense(6,)(all_features)\n",
        "    \n",
        "    # Try to create a number of other layers here, see with your teacher how you can do that or refer to the course given by Mx naudin\n",
        "    second_layer = tf.keras.layers.Dense(4,)(first_layer)\n",
        "    third_layer = tf.keras.layers.Dense(2,)(second_layer)\n",
        "    # Create an output layer called output that is a Dense layer with only 1 output (this will be the tip predicted)\n",
        "    output = tf.keras.layers.Dense(1,)(third_layer)\n",
        "\n",
        "    model = Model(all_inputs, output)\n",
        "    All_lost = []\n",
        "    # See https://www.tensorflow.org/api_docs/python/tf/keras/Model#compile\n",
        "    model.compile(\n",
        "        # Choose an optimizer to use\n",
        "        optimizer = tf.keras.optimizers.Adam(learning_rate=STARTING_LEARNING_RATE),\n",
        "        # Choose a loss to use,\n",
        "        loss = tf.keras.losses.MeanSquaredError(),\n",
        "        # Choose a metric to track\n",
        "        metrics=[\n",
        "            tf.keras.metrics.Accuracy()\n",
        "        ]\n",
        "    )\n",
        "    history = model.fit(train_dataset, epochs=NUMBER_OF_EPOCHS, validation_data=validation_dataset)\n",
        "    scores = model.evaluate(validation_dataset, verbose=0)\n",
        "\n",
        "\n",
        "    # summarize history for accuracy\n",
        "    plt.plot(history.history['loss'])\n",
        "    plt.plot(history.history['val_loss'])\n",
        "    plt.title('model accuracy')\n",
        "    plt.ylabel('accuracy')\n",
        "    plt.xlabel('epoch')\n",
        "    plt.legend(['train', 'test'], loc='upper left')\n",
        "    plt.show()\n",
        "    ### TODO If scores[1] is less than the smallest_error variable, save your new best model in the best_model variable\n",
        "\n",
        "    if scores[1] < smallest_error :\n",
        "      best_model = model"
      ],
      "metadata": {
        "id": "nB0I1C226YRH",
        "colab": {
          "base_uri": "https://localhost:8080/",
          "height": 1000
        },
        "outputId": "59da77f4-7ece-4f4e-fcd7-b41caeb3669b"
      },
      "execution_count": null,
      "outputs": [
        {
          "output_type": "stream",
          "name": "stdout",
          "text": [
            "Epoch 1/10\n",
            "203/203 [==============================] - 2s 4ms/step - loss: 6.5463 - accuracy: 0.0000e+00 - val_loss: 1.2840 - val_accuracy: 0.0000e+00\n",
            "Epoch 2/10\n",
            "203/203 [==============================] - 1s 3ms/step - loss: 1.4558 - accuracy: 0.0000e+00 - val_loss: 1.0755 - val_accuracy: 0.0000e+00\n",
            "Epoch 3/10\n",
            "203/203 [==============================] - 1s 3ms/step - loss: 1.2588 - accuracy: 0.0000e+00 - val_loss: 0.8972 - val_accuracy: 0.0000e+00\n",
            "Epoch 4/10\n",
            "203/203 [==============================] - 1s 3ms/step - loss: 1.1776 - accuracy: 0.0000e+00 - val_loss: 0.7769 - val_accuracy: 0.0000e+00\n",
            "Epoch 5/10\n",
            "203/203 [==============================] - 1s 3ms/step - loss: 1.1448 - accuracy: 0.0000e+00 - val_loss: 0.7619 - val_accuracy: 0.0000e+00\n",
            "Epoch 6/10\n",
            "203/203 [==============================] - 1s 3ms/step - loss: 1.1239 - accuracy: 0.0000e+00 - val_loss: 0.7882 - val_accuracy: 0.0000e+00\n",
            "Epoch 7/10\n",
            "203/203 [==============================] - 1s 3ms/step - loss: 1.1209 - accuracy: 0.0000e+00 - val_loss: 0.7933 - val_accuracy: 0.0000e+00\n",
            "Epoch 8/10\n",
            "203/203 [==============================] - 1s 3ms/step - loss: 1.1233 - accuracy: 0.0000e+00 - val_loss: 0.7807 - val_accuracy: 0.0000e+00\n",
            "Epoch 9/10\n",
            "203/203 [==============================] - 1s 3ms/step - loss: 1.1127 - accuracy: 0.0000e+00 - val_loss: 0.7516 - val_accuracy: 0.0000e+00\n",
            "Epoch 10/10\n",
            "203/203 [==============================] - 1s 3ms/step - loss: 1.1129 - accuracy: 0.0000e+00 - val_loss: 0.7955 - val_accuracy: 0.0000e+00\n"
          ]
        },
        {
          "output_type": "display_data",
          "data": {
            "text/plain": [
              "<Figure size 432x288 with 1 Axes>"
            ],
            "image/png": "[encoded data removed]"
          },
          "metadata": {
            "needs_background": "light"
          }
        },
        {
          "output_type": "stream",
          "name": "stdout",
          "text": [
            "Epoch 1/10\n",
            "203/203 [==============================] - 2s 4ms/step - loss: 4.7034 - accuracy: 0.0000e+00 - val_loss: 2.2698 - val_accuracy: 0.0000e+00\n",
            "Epoch 2/10\n",
            "203/203 [==============================] - 1s 3ms/step - loss: 1.5997 - accuracy: 0.0000e+00 - val_loss: 1.7968 - val_accuracy: 0.0000e+00\n",
            "Epoch 3/10\n",
            "203/203 [==============================] - 1s 3ms/step - loss: 1.2424 - accuracy: 0.0000e+00 - val_loss: 1.6174 - val_accuracy: 0.0000e+00\n",
            "Epoch 4/10\n",
            "203/203 [==============================] - 1s 3ms/step - loss: 1.0912 - accuracy: 0.0000e+00 - val_loss: 1.6160 - val_accuracy: 0.0000e+00\n",
            "Epoch 5/10\n",
            "203/203 [==============================] - 1s 3ms/step - loss: 0.9826 - accuracy: 0.0000e+00 - val_loss: 1.7153 - val_accuracy: 0.0000e+00\n",
            "Epoch 6/10\n",
            "203/203 [==============================] - 1s 3ms/step - loss: 0.9726 - accuracy: 0.0000e+00 - val_loss: 1.6132 - val_accuracy: 0.0000e+00\n",
            "Epoch 7/10\n",
            "203/203 [==============================] - 1s 3ms/step - loss: 0.9692 - accuracy: 0.0000e+00 - val_loss: 1.7771 - val_accuracy: 0.0000e+00\n",
            "Epoch 8/10\n",
            "203/203 [==============================] - 1s 3ms/step - loss: 0.9761 - accuracy: 0.0000e+00 - val_loss: 1.6770 - val_accuracy: 0.0000e+00\n",
            "Epoch 9/10\n",
            "203/203 [==============================] - 1s 3ms/step - loss: 0.9710 - accuracy: 0.0000e+00 - val_loss: 1.6409 - val_accuracy: 0.0000e+00\n",
            "Epoch 10/10\n",
            "203/203 [==============================] - 1s 4ms/step - loss: 0.9509 - accuracy: 0.0000e+00 - val_loss: 1.6533 - val_accuracy: 0.0000e+00\n"
          ]
        },
        {
          "output_type": "display_data",
          "data": {
            "text/plain": [
              "<Figure size 432x288 with 1 Axes>"
            ],
            "image/png": "[encoded data removed]"
          },
          "metadata": {
            "needs_background": "light"
          }
        },
        {
          "output_type": "stream",
          "name": "stdout",
          "text": [
            "Epoch 1/10\n",
            "203/203 [==============================] - 1s 4ms/step - loss: 2.5386 - accuracy: 0.0000e+00 - val_loss: 2.0292 - val_accuracy: 0.0000e+00\n",
            "Epoch 2/10\n",
            "203/203 [==============================] - 1s 3ms/step - loss: 1.1385 - accuracy: 0.0000e+00 - val_loss: 1.9736 - val_accuracy: 0.0000e+00\n",
            "Epoch 3/10\n",
            "203/203 [==============================] - 1s 3ms/step - loss: 1.1046 - accuracy: 0.0000e+00 - val_loss: 1.8184 - val_accuracy: 0.0000e+00\n",
            "Epoch 4/10\n",
            "203/203 [==============================] - 1s 3ms/step - loss: 1.0627 - accuracy: 0.0000e+00 - val_loss: 1.7211 - val_accuracy: 0.0000e+00\n",
            "Epoch 5/10\n",
            "203/203 [==============================] - 1s 3ms/step - loss: 1.0278 - accuracy: 0.0000e+00 - val_loss: 1.6790 - val_accuracy: 0.0000e+00\n",
            "Epoch 6/10\n",
            "203/203 [==============================] - 1s 3ms/step - loss: 1.0051 - accuracy: 0.0000e+00 - val_loss: 1.7870 - val_accuracy: 0.0000e+00\n",
            "Epoch 7/10\n",
            "203/203 [==============================] - 1s 3ms/step - loss: 1.0039 - accuracy: 0.0000e+00 - val_loss: 1.6707 - val_accuracy: 0.0000e+00\n",
            "Epoch 8/10\n",
            "203/203 [==============================] - 1s 3ms/step - loss: 0.9940 - accuracy: 0.0000e+00 - val_loss: 1.6192 - val_accuracy: 0.0000e+00\n",
            "Epoch 9/10\n",
            "203/203 [==============================] - 1s 3ms/step - loss: 0.9812 - accuracy: 0.0000e+00 - val_loss: 1.6162 - val_accuracy: 0.0000e+00\n",
            "Epoch 10/10\n",
            "203/203 [==============================] - 1s 3ms/step - loss: 0.9798 - accuracy: 0.0000e+00 - val_loss: 1.5994 - val_accuracy: 0.0000e+00\n"
          ]
        },
        {
          "output_type": "display_data",
          "data": {
            "text/plain": [
              "<Figure size 432x288 with 1 Axes>"
            ],
            "image/png": "[encoded data removed]"
          },
          "metadata": {
            "needs_background": "light"
          }
        },
        {
          "output_type": "stream",
          "name": "stdout",
          "text": [
            "Epoch 1/10\n",
            "203/203 [==============================] - 2s 4ms/step - loss: 3.2342 - accuracy: 0.0000e+00 - val_loss: 1.9676 - val_accuracy: 0.0000e+00\n",
            "Epoch 2/10\n",
            "203/203 [==============================] - 1s 3ms/step - loss: 1.3932 - accuracy: 0.0000e+00 - val_loss: 1.4510 - val_accuracy: 0.0000e+00\n",
            "Epoch 3/10\n",
            "203/203 [==============================] - 1s 3ms/step - loss: 1.2141 - accuracy: 0.0000e+00 - val_loss: 1.2676 - val_accuracy: 0.0000e+00\n",
            "Epoch 4/10\n",
            "203/203 [==============================] - 1s 3ms/step - loss: 1.1674 - accuracy: 0.0000e+00 - val_loss: 1.1844 - val_accuracy: 0.0000e+00\n",
            "Epoch 5/10\n",
            "203/203 [==============================] - 1s 3ms/step - loss: 1.1171 - accuracy: 0.0000e+00 - val_loss: 1.2042 - val_accuracy: 0.0000e+00\n",
            "Epoch 6/10\n",
            "203/203 [==============================] - 1s 3ms/step - loss: 1.1124 - accuracy: 0.0000e+00 - val_loss: 1.1155 - val_accuracy: 0.0000e+00\n",
            "Epoch 7/10\n",
            "203/203 [==============================] - 1s 3ms/step - loss: 1.0943 - accuracy: 0.0000e+00 - val_loss: 1.0684 - val_accuracy: 0.0000e+00\n",
            "Epoch 8/10\n",
            "203/203 [==============================] - 1s 3ms/step - loss: 1.0935 - accuracy: 0.0000e+00 - val_loss: 1.0629 - val_accuracy: 0.0000e+00\n",
            "Epoch 9/10\n",
            "203/203 [==============================] - 1s 3ms/step - loss: 1.0858 - accuracy: 0.0000e+00 - val_loss: 1.0717 - val_accuracy: 0.0000e+00\n",
            "Epoch 10/10\n",
            "203/203 [==============================] - 1s 3ms/step - loss: 1.0678 - accuracy: 0.0000e+00 - val_loss: 1.0359 - val_accuracy: 0.0000e+00\n"
          ]
        },
        {
          "output_type": "display_data",
          "data": {
            "text/plain": [
              "<Figure size 432x288 with 1 Axes>"
            ],
            "image/png": "[encoded data removed]"
          },
          "metadata": {
            "needs_background": "light"
          }
        },
        {
          "output_type": "stream",
          "name": "stdout",
          "text": [
            "Epoch 1/10\n",
            "204/204 [==============================] - 1s 4ms/step - loss: 4.1332 - accuracy: 0.0000e+00 - val_loss: 3.1735 - val_accuracy: 0.0000e+00\n",
            "Epoch 2/10\n",
            "204/204 [==============================] - 1s 2ms/step - loss: 1.8292 - accuracy: 0.0000e+00 - val_loss: 2.1309 - val_accuracy: 0.0000e+00\n",
            "Epoch 3/10\n",
            "204/204 [==============================] - 1s 3ms/step - loss: 1.4526 - accuracy: 0.0000e+00 - val_loss: 1.7594 - val_accuracy: 0.0000e+00\n",
            "Epoch 4/10\n",
            " 26/204 [==>...........................] - ETA: 0s - loss: 1.1646 - accuracy: 0.0000e+00"
          ]
        },
        {
          "output_type": "error",
          "ename": "KeyboardInterrupt",
          "evalue": "ignored",
          "traceback": [
            "\u001b[0;31m---------------------------------------------------------------------------\u001b[0m",
            "\u001b[0;31mKeyboardInterrupt\u001b[0m                         Traceback (most recent call last)",
            "\u001b[0;32m<ipython-input-46-46ceabd88ccc>\u001b[0m in \u001b[0;36m<module>\u001b[0;34m\u001b[0m\n\u001b[1;32m     57\u001b[0m         ]\n\u001b[1;32m     58\u001b[0m     )\n\u001b[0;32m---> 59\u001b[0;31m     \u001b[0mhistory\u001b[0m \u001b[0;34m=\u001b[0m \u001b[0mmodel\u001b[0m\u001b[0;34m.\u001b[0m\u001b[0mfit\u001b[0m\u001b[0;34m(\u001b[0m\u001b[0mtrain_dataset\u001b[0m\u001b[0;34m,\u001b[0m \u001b[0mepochs\u001b[0m\u001b[0;34m=\u001b[0m\u001b[0mNUMBER_OF_EPOCHS\u001b[0m\u001b[0;34m,\u001b[0m \u001b[0mvalidation_data\u001b[0m\u001b[0;34m=\u001b[0m\u001b[0mvalidation_dataset\u001b[0m\u001b[0;34m)\u001b[0m\u001b[0;34m\u001b[0m\u001b[0;34m\u001b[0m\u001b[0m\n\u001b[0m\u001b[1;32m     60\u001b[0m     \u001b[0mscores\u001b[0m \u001b[0;34m=\u001b[0m \u001b[0mmodel\u001b[0m\u001b[0;34m.\u001b[0m\u001b[0mevaluate\u001b[0m\u001b[0;34m(\u001b[0m\u001b[0mvalidation_dataset\u001b[0m\u001b[0;34m,\u001b[0m \u001b[0mverbose\u001b[0m\u001b[0;34m=\u001b[0m\u001b[0;36m0\u001b[0m\u001b[0;34m)\u001b[0m\u001b[0;34m\u001b[0m\u001b[0;34m\u001b[0m\u001b[0m\n\u001b[1;32m     61\u001b[0m \u001b[0;34m\u001b[0m\u001b[0m\n",
            "\u001b[0;32m/usr/local/lib/python3.8/dist-packages/keras/utils/traceback_utils.py\u001b[0m in \u001b[0;36merror_handler\u001b[0;34m(*args, **kwargs)\u001b[0m\n\u001b[1;32m     62\u001b[0m     \u001b[0mfiltered_tb\u001b[0m \u001b[0;34m=\u001b[0m \u001b[0;32mNone\u001b[0m\u001b[0;34m\u001b[0m\u001b[0;34m\u001b[0m\u001b[0m\n\u001b[1;32m     63\u001b[0m     \u001b[0;32mtry\u001b[0m\u001b[0;34m:\u001b[0m\u001b[0;34m\u001b[0m\u001b[0;34m\u001b[0m\u001b[0m\n\u001b[0;32m---> 64\u001b[0;31m       \u001b[0;32mreturn\u001b[0m \u001b[0mfn\u001b[0m\u001b[0;34m(\u001b[0m\u001b[0;34m*\u001b[0m\u001b[0margs\u001b[0m\u001b[0;34m,\u001b[0m \u001b[0;34m**\u001b[0m\u001b[0mkwargs\u001b[0m\u001b[0;34m)\u001b[0m\u001b[0;34m\u001b[0m\u001b[0;34m\u001b[0m\u001b[0m\n\u001b[0m\u001b[1;32m     65\u001b[0m     \u001b[0;32mexcept\u001b[0m \u001b[0mException\u001b[0m \u001b[0;32mas\u001b[0m \u001b[0me\u001b[0m\u001b[0;34m:\u001b[0m  \u001b[0;31m# pylint: disable=broad-except\u001b[0m\u001b[0;34m\u001b[0m\u001b[0;34m\u001b[0m\u001b[0m\n\u001b[1;32m     66\u001b[0m       \u001b[0mfiltered_tb\u001b[0m \u001b[0;34m=\u001b[0m \u001b[0m_process_traceback_frames\u001b[0m\u001b[0;34m(\u001b[0m\u001b[0me\u001b[0m\u001b[0;34m.\u001b[0m\u001b[0m__traceback__\u001b[0m\u001b[0;34m)\u001b[0m\u001b[0;34m\u001b[0m\u001b[0;34m\u001b[0m\u001b[0m\n",
            "\u001b[0;32m/usr/local/lib/python3.8/dist-packages/keras/engine/training.py\u001b[0m in \u001b[0;36mfit\u001b[0;34m(self, x, y, batch_size, epochs, verbose, callbacks, validation_split, validation_data, shuffle, class_weight, sample_weight, initial_epoch, steps_per_epoch, validation_steps, validation_batch_size, validation_freq, max_queue_size, workers, use_multiprocessing)\u001b[0m\n\u001b[1;32m   1407\u001b[0m                 _r=1):\n\u001b[1;32m   1408\u001b[0m               \u001b[0mcallbacks\u001b[0m\u001b[0;34m.\u001b[0m\u001b[0mon_train_batch_begin\u001b[0m\u001b[0;34m(\u001b[0m\u001b[0mstep\u001b[0m\u001b[0;34m)\u001b[0m\u001b[0;34m\u001b[0m\u001b[0;34m\u001b[0m\u001b[0m\n\u001b[0;32m-> 1409\u001b[0;31m               \u001b[0mtmp_logs\u001b[0m \u001b[0;34m=\u001b[0m \u001b[0mself\u001b[0m\u001b[0;34m.\u001b[0m\u001b[0mtrain_function\u001b[0m\u001b[0;34m(\u001b[0m\u001b[0miterator\u001b[0m\u001b[0;34m)\u001b[0m\u001b[0;34m\u001b[0m\u001b[0;34m\u001b[0m\u001b[0m\n\u001b[0m\u001b[1;32m   1410\u001b[0m               \u001b[0;32mif\u001b[0m \u001b[0mdata_handler\u001b[0m\u001b[0;34m.\u001b[0m\u001b[0mshould_sync\u001b[0m\u001b[0;34m:\u001b[0m\u001b[0;34m\u001b[0m\u001b[0;34m\u001b[0m\u001b[0m\n\u001b[1;32m   1411\u001b[0m                 \u001b[0mcontext\u001b[0m\u001b[0;34m.\u001b[0m\u001b[0masync_wait\u001b[0m\u001b[0;34m(\u001b[0m\u001b[0;34m)\u001b[0m\u001b[0;34m\u001b[0m\u001b[0;34m\u001b[0m\u001b[0m\n",
            "\u001b[0;32m/usr/local/lib/python3.8/dist-packages/tensorflow/python/util/traceback_utils.py\u001b[0m in \u001b[0;36merror_handler\u001b[0;34m(*args, **kwargs)\u001b[0m\n\u001b[1;32m    148\u001b[0m     \u001b[0mfiltered_tb\u001b[0m \u001b[0;34m=\u001b[0m \u001b[0;32mNone\u001b[0m\u001b[0;34m\u001b[0m\u001b[0;34m\u001b[0m\u001b[0m\n\u001b[1;32m    149\u001b[0m     \u001b[0;32mtry\u001b[0m\u001b[0;34m:\u001b[0m\u001b[0;34m\u001b[0m\u001b[0;34m\u001b[0m\u001b[0m\n\u001b[0;32m--> 150\u001b[0;31m       \u001b[0;32mreturn\u001b[0m \u001b[0mfn\u001b[0m\u001b[0;34m(\u001b[0m\u001b[0;34m*\u001b[0m\u001b[0margs\u001b[0m\u001b[0;34m,\u001b[0m \u001b[0;34m**\u001b[0m\u001b[0mkwargs\u001b[0m\u001b[0;34m)\u001b[0m\u001b[0;34m\u001b[0m\u001b[0;34m\u001b[0m\u001b[0m\n\u001b[0m\u001b[1;32m    151\u001b[0m     \u001b[0;32mexcept\u001b[0m \u001b[0mException\u001b[0m \u001b[0;32mas\u001b[0m \u001b[0me\u001b[0m\u001b[0;34m:\u001b[0m\u001b[0;34m\u001b[0m\u001b[0;34m\u001b[0m\u001b[0m\n\u001b[1;32m    152\u001b[0m       \u001b[0mfiltered_tb\u001b[0m \u001b[0;34m=\u001b[0m \u001b[0m_process_traceback_frames\u001b[0m\u001b[0;34m(\u001b[0m\u001b[0me\u001b[0m\u001b[0;34m.\u001b[0m\u001b[0m__traceback__\u001b[0m\u001b[0;34m)\u001b[0m\u001b[0;34m\u001b[0m\u001b[0;34m\u001b[0m\u001b[0m\n",
            "\u001b[0;32m/usr/local/lib/python3.8/dist-packages/tensorflow/python/eager/def_function.py\u001b[0m in \u001b[0;36m__call__\u001b[0;34m(self, *args, **kwds)\u001b[0m\n\u001b[1;32m    913\u001b[0m \u001b[0;34m\u001b[0m\u001b[0m\n\u001b[1;32m    914\u001b[0m       \u001b[0;32mwith\u001b[0m \u001b[0mOptionalXlaContext\u001b[0m\u001b[0;34m(\u001b[0m\u001b[0mself\u001b[0m\u001b[0;34m.\u001b[0m\u001b[0m_jit_compile\u001b[0m\u001b[0;34m)\u001b[0m\u001b[0;34m:\u001b[0m\u001b[0;34m\u001b[0m\u001b[0;34m\u001b[0m\u001b[0m\n\u001b[0;32m--> 915\u001b[0;31m         \u001b[0mresult\u001b[0m \u001b[0;34m=\u001b[0m \u001b[0mself\u001b[0m\u001b[0;34m.\u001b[0m\u001b[0m_call\u001b[0m\u001b[0;34m(\u001b[0m\u001b[0;34m*\u001b[0m\u001b[0margs\u001b[0m\u001b[0;34m,\u001b[0m \u001b[0;34m**\u001b[0m\u001b[0mkwds\u001b[0m\u001b[0;34m)\u001b[0m\u001b[0;34m\u001b[0m\u001b[0;34m\u001b[0m\u001b[0m\n\u001b[0m\u001b[1;32m    916\u001b[0m \u001b[0;34m\u001b[0m\u001b[0m\n\u001b[1;32m    917\u001b[0m       \u001b[0mnew_tracing_count\u001b[0m \u001b[0;34m=\u001b[0m \u001b[0mself\u001b[0m\u001b[0;34m.\u001b[0m\u001b[0mexperimental_get_tracing_count\u001b[0m\u001b[0;34m(\u001b[0m\u001b[0;34m)\u001b[0m\u001b[0;34m\u001b[0m\u001b[0;34m\u001b[0m\u001b[0m\n",
            "\u001b[0;32m/usr/local/lib/python3.8/dist-packages/tensorflow/python/eager/def_function.py\u001b[0m in \u001b[0;36m_call\u001b[0;34m(self, *args, **kwds)\u001b[0m\n\u001b[1;32m    945\u001b[0m       \u001b[0;31m# In this case we have created variables on the first call, so we run the\u001b[0m\u001b[0;34m\u001b[0m\u001b[0;34m\u001b[0m\u001b[0;34m\u001b[0m\u001b[0m\n\u001b[1;32m    946\u001b[0m       \u001b[0;31m# defunned version which is guaranteed to never create variables.\u001b[0m\u001b[0;34m\u001b[0m\u001b[0;34m\u001b[0m\u001b[0;34m\u001b[0m\u001b[0m\n\u001b[0;32m--> 947\u001b[0;31m       \u001b[0;32mreturn\u001b[0m \u001b[0mself\u001b[0m\u001b[0;34m.\u001b[0m\u001b[0m_stateless_fn\u001b[0m\u001b[0;34m(\u001b[0m\u001b[0;34m*\u001b[0m\u001b[0margs\u001b[0m\u001b[0;34m,\u001b[0m \u001b[0;34m**\u001b[0m\u001b[0mkwds\u001b[0m\u001b[0;34m)\u001b[0m  \u001b[0;31m# pylint: disable=not-callable\u001b[0m\u001b[0;34m\u001b[0m\u001b[0;34m\u001b[0m\u001b[0m\n\u001b[0m\u001b[1;32m    948\u001b[0m     \u001b[0;32melif\u001b[0m \u001b[0mself\u001b[0m\u001b[0;34m.\u001b[0m\u001b[0m_stateful_fn\u001b[0m \u001b[0;32mis\u001b[0m \u001b[0;32mnot\u001b[0m \u001b[0;32mNone\u001b[0m\u001b[0;34m:\u001b[0m\u001b[0;34m\u001b[0m\u001b[0;34m\u001b[0m\u001b[0m\n\u001b[1;32m    949\u001b[0m       \u001b[0;31m# Release the lock early so that multiple threads can perform the call\u001b[0m\u001b[0;34m\u001b[0m\u001b[0;34m\u001b[0m\u001b[0;34m\u001b[0m\u001b[0m\n",
            "\u001b[0;32m/usr/local/lib/python3.8/dist-packages/tensorflow/python/eager/function.py\u001b[0m in \u001b[0;36m__call__\u001b[0;34m(self, *args, **kwargs)\u001b[0m\n\u001b[1;32m   2451\u001b[0m       (graph_function,\n\u001b[1;32m   2452\u001b[0m        filtered_flat_args) = self._maybe_define_function(args, kwargs)\n\u001b[0;32m-> 2453\u001b[0;31m     return graph_function._call_flat(\n\u001b[0m\u001b[1;32m   2454\u001b[0m         filtered_flat_args, captured_inputs=graph_function.captured_inputs)  # pylint: disable=protected-access\n\u001b[1;32m   2455\u001b[0m \u001b[0;34m\u001b[0m\u001b[0m\n",
            "\u001b[0;32m/usr/local/lib/python3.8/dist-packages/tensorflow/python/eager/function.py\u001b[0m in \u001b[0;36m_call_flat\u001b[0;34m(self, args, captured_inputs, cancellation_manager)\u001b[0m\n\u001b[1;32m   1858\u001b[0m         and executing_eagerly):\n\u001b[1;32m   1859\u001b[0m       \u001b[0;31m# No tape is watching; skip to running the function.\u001b[0m\u001b[0;34m\u001b[0m\u001b[0;34m\u001b[0m\u001b[0;34m\u001b[0m\u001b[0m\n\u001b[0;32m-> 1860\u001b[0;31m       return self._build_call_outputs(self._inference_function.call(\n\u001b[0m\u001b[1;32m   1861\u001b[0m           ctx, args, cancellation_manager=cancellation_manager))\n\u001b[1;32m   1862\u001b[0m     forward_backward = self._select_forward_and_backward_functions(\n",
            "\u001b[0;32m/usr/local/lib/python3.8/dist-packages/tensorflow/python/eager/function.py\u001b[0m in \u001b[0;36mcall\u001b[0;34m(self, ctx, args, cancellation_manager)\u001b[0m\n\u001b[1;32m    495\u001b[0m       \u001b[0;32mwith\u001b[0m \u001b[0m_InterpolateFunctionError\u001b[0m\u001b[0;34m(\u001b[0m\u001b[0mself\u001b[0m\u001b[0;34m)\u001b[0m\u001b[0;34m:\u001b[0m\u001b[0;34m\u001b[0m\u001b[0;34m\u001b[0m\u001b[0m\n\u001b[1;32m    496\u001b[0m         \u001b[0;32mif\u001b[0m \u001b[0mcancellation_manager\u001b[0m \u001b[0;32mis\u001b[0m \u001b[0;32mNone\u001b[0m\u001b[0;34m:\u001b[0m\u001b[0;34m\u001b[0m\u001b[0;34m\u001b[0m\u001b[0m\n\u001b[0;32m--> 497\u001b[0;31m           outputs = execute.execute(\n\u001b[0m\u001b[1;32m    498\u001b[0m               \u001b[0mstr\u001b[0m\u001b[0;34m(\u001b[0m\u001b[0mself\u001b[0m\u001b[0;34m.\u001b[0m\u001b[0msignature\u001b[0m\u001b[0;34m.\u001b[0m\u001b[0mname\u001b[0m\u001b[0;34m)\u001b[0m\u001b[0;34m,\u001b[0m\u001b[0;34m\u001b[0m\u001b[0;34m\u001b[0m\u001b[0m\n\u001b[1;32m    499\u001b[0m               \u001b[0mnum_outputs\u001b[0m\u001b[0;34m=\u001b[0m\u001b[0mself\u001b[0m\u001b[0;34m.\u001b[0m\u001b[0m_num_outputs\u001b[0m\u001b[0;34m,\u001b[0m\u001b[0;34m\u001b[0m\u001b[0;34m\u001b[0m\u001b[0m\n",
            "\u001b[0;32m/usr/local/lib/python3.8/dist-packages/tensorflow/python/eager/execute.py\u001b[0m in \u001b[0;36mquick_execute\u001b[0;34m(op_name, num_outputs, inputs, attrs, ctx, name)\u001b[0m\n\u001b[1;32m     52\u001b[0m   \u001b[0;32mtry\u001b[0m\u001b[0;34m:\u001b[0m\u001b[0;34m\u001b[0m\u001b[0;34m\u001b[0m\u001b[0m\n\u001b[1;32m     53\u001b[0m     \u001b[0mctx\u001b[0m\u001b[0;34m.\u001b[0m\u001b[0mensure_initialized\u001b[0m\u001b[0;34m(\u001b[0m\u001b[0;34m)\u001b[0m\u001b[0;34m\u001b[0m\u001b[0;34m\u001b[0m\u001b[0m\n\u001b[0;32m---> 54\u001b[0;31m     tensors = pywrap_tfe.TFE_Py_Execute(ctx._handle, device_name, op_name,\n\u001b[0m\u001b[1;32m     55\u001b[0m                                         inputs, attrs, num_outputs)\n\u001b[1;32m     56\u001b[0m   \u001b[0;32mexcept\u001b[0m \u001b[0mcore\u001b[0m\u001b[0;34m.\u001b[0m\u001b[0m_NotOkStatusException\u001b[0m \u001b[0;32mas\u001b[0m \u001b[0me\u001b[0m\u001b[0;34m:\u001b[0m\u001b[0;34m\u001b[0m\u001b[0;34m\u001b[0m\u001b[0m\n",
            "\u001b[0;31mKeyboardInterrupt\u001b[0m: "
          ]
        }
      ]
    },
    {
      "cell_type": "code",
      "source": [
        "history.history"
      ],
      "metadata": {
        "colab": {
          "base_uri": "https://localhost:8080/"
        },
        "id": "Y2boDL3LuHdD",
        "outputId": "6864f017-c479-42e5-d1b6-c136839e07d6"
      },
      "execution_count": null,
      "outputs": [
        {
          "output_type": "execute_result",
          "data": {
            "text/plain": [
              "{'loss': [2.7730634212493896],\n",
              " 'accuracy': [0.0],\n",
              " 'val_loss': [2.793728828430176],\n",
              " 'val_accuracy': [0.0]}"
            ]
          },
          "metadata": {},
          "execution_count": 37
        }
      ]
    },
    {
      "cell_type": "code",
      "source": [
        "# Time to evaluate the model using random data\n",
        "\n",
        "samples = [{\n",
        "    \"total_bill\": 1.,\n",
        "    \"sex\": \"Male\",\n",
        "    \"smoker\": \"Yes\",\n",
        "    \"day\": \"Mon\",\n",
        "    \"time\": \"Lunch\",\n",
        "    \"size\": 1\n",
        "},\n",
        "{\n",
        "    \"total_bill\": 16.99,\n",
        "    \"sex\": \"Female\",\n",
        "    \"smoker\": \"No\",\n",
        "    \"day\": \"Wed\",\n",
        "    \"time\": \"Dinner\",\n",
        "    \"size\": 2\n",
        "},\n",
        "{\n",
        "    \"total_bill\": 16.99,\n",
        "    \"sex\": \"Female\",\n",
        "    \"smoker\": \"Yes\",\n",
        "    \"day\": \"Wed\",\n",
        "    \"time\": \"Dinner\",\n",
        "    \"size\": 2\n",
        "},\n",
        "{\n",
        "    \"total_bill\": 10.45,\n",
        "    \"sex\": \"Male\",\n",
        "    \"smoker\": \"No\",\n",
        "    \"day\": \"Fri\",\n",
        "    \"time\": \"Lunch\",\n",
        "    \"size\": 1\n",
        "},\n",
        "{\n",
        "    \"total_bill\": 15.,\n",
        "    \"sex\": \"Female\",\n",
        "    \"smoker\": \"Yes\",\n",
        "    \"day\": \"Tue\",\n",
        "    \"time\": \"Lunch\",\n",
        "    \"size\": 2\n",
        "},\n",
        "{\n",
        "    \"total_bill\": 45.99,\n",
        "    \"sex\": \"Male\",\n",
        "    \"smoker\": \"No\",\n",
        "    \"day\": \"Sun\",\n",
        "    \"time\": \"Lunch\",\n",
        "    \"size\": 4\n",
        "}]\n",
        "\n",
        "for sample in samples:\n",
        "    input_dict = {name: tf.convert_to_tensor([value]) for name, value in sample.items()}\n",
        "    predictions = best_model.predict(input_dict)\n",
        "    print(f'Pour {sample}, on prédit un pourboire de ${predictions[0][0]:.2f}')"
      ],
      "metadata": {
        "id": "4Z5TBsCr8cju"
      },
      "execution_count": null,
      "outputs": []
    }
  ]
}